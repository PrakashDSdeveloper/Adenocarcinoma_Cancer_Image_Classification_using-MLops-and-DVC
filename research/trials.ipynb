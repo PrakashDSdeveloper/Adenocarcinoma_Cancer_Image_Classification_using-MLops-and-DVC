{
 "cells": [
  {
   "cell_type": "markdown",
   "metadata": {},
   "source": [
    "## Download data from Google Drive"
   ]
  },
  {
   "cell_type": "code",
   "execution_count": 1,
   "metadata": {},
   "outputs": [],
   "source": [
    "import gdown #Library which help to download data from drive"
   ]
  },
  {
   "cell_type": "code",
   "execution_count": 3,
   "metadata": {},
   "outputs": [
    {
     "data": {
      "text/plain": [
       "'1thATOJNW2aflEWYsVo4xJ7iVX0cRwNnW'"
      ]
     },
     "execution_count": 3,
     "metadata": {},
     "output_type": "execute_result"
    }
   ],
   "source": [
    "url = 'https://drive.google.com/file/d/1thATOJNW2aflEWYsVo4xJ7iVX0cRwNnW/view?usp=sharing'\n",
    "\n",
    "file_id = url.split('/')[-2]"
   ]
  },
  {
   "cell_type": "code",
   "execution_count": 5,
   "metadata": {},
   "outputs": [
    {
     "name": "stderr",
     "output_type": "stream",
     "text": [
      "Downloading...\n",
      "From (uriginal): https://drive.google.com/uc?export=download&id=1thATOJNW2aflEWYsVo4xJ7iVX0cRwNnW\n",
      "From (redirected): https://drive.google.com/uc?export=download&id=1thATOJNW2aflEWYsVo4xJ7iVX0cRwNnW&confirm=t&uuid=ff988994-7179-40de-a682-8e3fb7fb6957\n",
      "To: c:\\Self_Projects\\Adenocarcinoma_Cancer_Image_Classification_using-MLops-and-DVC\\research\\Dataset.zip\n",
      "100%|██████████| 100M/100M [03:48<00:00, 439kB/s]  \n"
     ]
    },
    {
     "data": {
      "text/plain": [
       "'Dataset.zip'"
      ]
     },
     "execution_count": 5,
     "metadata": {},
     "output_type": "execute_result"
    }
   ],
   "source": [
    "prefix_for_download = 'https://drive.google.com/uc?export=download&id='\n",
    "gdown.download(prefix_for_download+file_id,'Dataset.zip')"
   ]
  },
  {
   "cell_type": "code",
   "execution_count": null,
   "metadata": {},
   "outputs": [],
   "source": []
  }
 ],
 "metadata": {
  "kernelspec": {
   "display_name": "cancer",
   "language": "python",
   "name": "python3"
  },
  "language_info": {
   "codemirror_mode": {
    "name": "ipython",
    "version": 3
   },
   "file_extension": ".py",
   "mimetype": "text/x-python",
   "name": "python",
   "nbconvert_exporter": "python",
   "pygments_lexer": "ipython3",
   "version": "3.8.18"
  }
 },
 "nbformat": 4,
 "nbformat_minor": 2
}
