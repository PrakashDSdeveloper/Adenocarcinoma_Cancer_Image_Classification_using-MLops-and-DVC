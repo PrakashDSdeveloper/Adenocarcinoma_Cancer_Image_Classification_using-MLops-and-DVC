{
  "nbformat": 4,
  "nbformat_minor": 0,
  "metadata": {
    "colab": {
      "provenance": [],
      "authorship_tag": "ABX9TyMtNTCr2e/tVTcDJRA+3QQk",
      "include_colab_link": true
    },
    "kernelspec": {
      "name": "python3",
      "display_name": "Python 3"
    },
    "language_info": {
      "name": "python"
    }
  },
  "cells": [
    {
      "cell_type": "markdown",
      "metadata": {
        "id": "view-in-github",
        "colab_type": "text"
      },
      "source": [
        "<a href=\"https://colab.research.google.com/github/PrakashDSdeveloper/Adenocarcinoma_Cancer_Image_Classification_using-MLops-and-DVC/blob/main/other%20ways%20to%20improve.ipynb\" target=\"_parent\"><img src=\"https://colab.research.google.com/assets/colab-badge.svg\" alt=\"Open In Colab\"/></a>"
      ]
    },
    {
      "cell_type": "code",
      "source": [
        "!pip install shap\n"
      ],
      "metadata": {
        "colab": {
          "base_uri": "https://localhost:8080/"
        },
        "id": "Od4FAu2QMCLU",
        "outputId": "356882a0-0ff1-4ff3-885e-767e6e2015f2"
      },
      "execution_count": 2,
      "outputs": [
        {
          "output_type": "stream",
          "name": "stdout",
          "text": [
            "Collecting shap\n",
            "  Downloading shap-0.44.1-cp310-cp310-manylinux_2_12_x86_64.manylinux2010_x86_64.manylinux_2_17_x86_64.manylinux2014_x86_64.whl (535 kB)\n",
            "\u001b[2K     \u001b[90m━━━━━━━━━━━━━━━━━━━━━━━━━━━━━━━━━━━━━━━━\u001b[0m \u001b[32m535.7/535.7 kB\u001b[0m \u001b[31m3.9 MB/s\u001b[0m eta \u001b[36m0:00:00\u001b[0m\n",
            "\u001b[?25hRequirement already satisfied: numpy in /usr/local/lib/python3.10/dist-packages (from shap) (1.23.5)\n",
            "Requirement already satisfied: scipy in /usr/local/lib/python3.10/dist-packages (from shap) (1.11.4)\n",
            "Requirement already satisfied: scikit-learn in /usr/local/lib/python3.10/dist-packages (from shap) (1.2.2)\n",
            "Requirement already satisfied: pandas in /usr/local/lib/python3.10/dist-packages (from shap) (1.5.3)\n",
            "Requirement already satisfied: tqdm>=4.27.0 in /usr/local/lib/python3.10/dist-packages (from shap) (4.66.1)\n",
            "Requirement already satisfied: packaging>20.9 in /usr/local/lib/python3.10/dist-packages (from shap) (23.2)\n",
            "Collecting slicer==0.0.7 (from shap)\n",
            "  Downloading slicer-0.0.7-py3-none-any.whl (14 kB)\n",
            "Requirement already satisfied: numba in /usr/local/lib/python3.10/dist-packages (from shap) (0.58.1)\n",
            "Requirement already satisfied: cloudpickle in /usr/local/lib/python3.10/dist-packages (from shap) (2.2.1)\n",
            "Requirement already satisfied: llvmlite<0.42,>=0.41.0dev0 in /usr/local/lib/python3.10/dist-packages (from numba->shap) (0.41.1)\n",
            "Requirement already satisfied: python-dateutil>=2.8.1 in /usr/local/lib/python3.10/dist-packages (from pandas->shap) (2.8.2)\n",
            "Requirement already satisfied: pytz>=2020.1 in /usr/local/lib/python3.10/dist-packages (from pandas->shap) (2023.4)\n",
            "Requirement already satisfied: joblib>=1.1.1 in /usr/local/lib/python3.10/dist-packages (from scikit-learn->shap) (1.3.2)\n",
            "Requirement already satisfied: threadpoolctl>=2.0.0 in /usr/local/lib/python3.10/dist-packages (from scikit-learn->shap) (3.2.0)\n",
            "Requirement already satisfied: six>=1.5 in /usr/local/lib/python3.10/dist-packages (from python-dateutil>=2.8.1->pandas->shap) (1.16.0)\n",
            "Installing collected packages: slicer, shap\n",
            "Successfully installed shap-0.44.1 slicer-0.0.7\n"
          ]
        }
      ]
    },
    {
      "cell_type": "code",
      "execution_count": 7,
      "metadata": {
        "id": "-FFWE4c3LrJg"
      },
      "outputs": [],
      "source": [
        "import pandas as pd\n",
        "import numpy as np\n",
        "from sklearn.model_selection import train_test_split, cross_val_score, GridSearchCV, StratifiedKFold\n",
        "from sklearn.ensemble import RandomForestClassifier, GradientBoostingClassifier\n",
        "from sklearn.metrics import classification_report, roc_auc_score, roc_curve, precision_recall_curve, auc\n",
        "from imblearn.over_sampling import SMOTE, ADASYN, BorderlineSMOTE, RandomOverSampler\n",
        "from imblearn.ensemble import BalancedRandomForestClassifier, EasyEnsembleClassifier\n",
        "import matplotlib.pyplot as plt\n",
        "import shap"
      ]
    },
    {
      "cell_type": "code",
      "source": [
        "# Load dataset\n",
        "data = pd.read_csv('/content/creditcard.csv')"
      ],
      "metadata": {
        "id": "UCxntjjHRvN1"
      },
      "execution_count": 8,
      "outputs": []
    },
    {
      "cell_type": "code",
      "source": [
        "data.isnull().sum()"
      ],
      "metadata": {
        "colab": {
          "base_uri": "https://localhost:8080/"
        },
        "id": "J8wA5n-QR4ko",
        "outputId": "51e2069b-a998-4e8c-c4cd-9da792f2e530"
      },
      "execution_count": 10,
      "outputs": [
        {
          "output_type": "execute_result",
          "data": {
            "text/plain": [
              "Time      0\n",
              "V1        0\n",
              "V2        0\n",
              "V3        0\n",
              "V4        0\n",
              "V5        1\n",
              "V6        1\n",
              "V7        1\n",
              "V8        1\n",
              "V9        1\n",
              "V10       1\n",
              "V11       1\n",
              "V12       1\n",
              "V13       1\n",
              "V14       1\n",
              "V15       1\n",
              "V16       1\n",
              "V17       1\n",
              "V18       1\n",
              "V19       1\n",
              "V20       1\n",
              "V21       1\n",
              "V22       1\n",
              "V23       1\n",
              "V24       1\n",
              "V25       1\n",
              "V26       1\n",
              "V27       1\n",
              "V28       1\n",
              "Amount    1\n",
              "Class     1\n",
              "dtype: int64"
            ]
          },
          "metadata": {},
          "execution_count": 10
        }
      ]
    },
    {
      "cell_type": "code",
      "source": [
        "data.dropna(inplace = True)"
      ],
      "metadata": {
        "id": "44ljFVPyR-V9"
      },
      "execution_count": 11,
      "outputs": []
    },
    {
      "cell_type": "code",
      "source": [
        "X = data.drop('Class', axis=1)\n",
        "y = data['Class']"
      ],
      "metadata": {
        "id": "DXxK-lJSR2kq"
      },
      "execution_count": 12,
      "outputs": []
    },
    {
      "cell_type": "code",
      "source": [
        "# Hyperparameter Tuning\n",
        "# Random Forest\n",
        "param_grid_rf = {\n",
        "    'n_estimators': [50, 100, 200],\n",
        "    'max_depth': [None, 5, 10, 20],\n",
        "    'min_samples_split': [2, 5, 10],\n",
        "    'min_samples_leaf': [1, 2, 4]\n",
        "}\n",
        "rf = RandomForestClassifier(random_state=42)\n",
        "grid_search_rf = GridSearchCV(rf, param_grid_rf, cv=5, scoring='f1', n_jobs=-1)\n",
        "grid_search_rf.fit(X, y)\n",
        "best_params_rf = grid_search_rf.best_params_"
      ],
      "metadata": {
        "id": "__7X4HM-SFmI"
      },
      "execution_count": null,
      "outputs": []
    },
    {
      "cell_type": "code",
      "source": [
        "# Gradient Boosting\n",
        "param_grid_gb = {\n",
        "    'n_estimators': [50, 100, 200],\n",
        "    'learning_rate': [0.01, 0.1, 0.5],\n",
        "    'max_depth': [3, 5, 10]\n",
        "}\n",
        "gb = GradientBoostingClassifier(random_state=42)\n",
        "grid_search_gb = GridSearchCV(gb, param_grid_gb, cv=5, scoring='f1', n_jobs=-1)\n",
        "grid_search_gb.fit(X, y)\n",
        "best_params_gb = grid_search_gb.best_params_"
      ],
      "metadata": {
        "id": "Ie97sGnvT5M9"
      },
      "execution_count": null,
      "outputs": []
    },
    {
      "cell_type": "code",
      "source": [
        "# Cross-Validation\n",
        "skf = StratifiedKFold(n_splits=5, shuffle=True, random_state=42)"
      ],
      "metadata": {
        "id": "80sUjoFJT8er"
      },
      "execution_count": null,
      "outputs": []
    },
    {
      "cell_type": "code",
      "source": [
        "# Sampling Techniques\n",
        "# SMOTE\n",
        "smote = SMOTE(random_state=42)\n",
        "X_resampled_smote, y_resampled_smote = smote.fit_resample(X, y)\n",
        "\n",
        "# ADASYN\n",
        "adasyn = ADASYN(random_state=42)\n",
        "X_resampled_adasyn, y_resampled_adasyn = adasyn.fit_resample(X, y)\n",
        "\n",
        "# Borderline-SMOTE\n",
        "borderline_smote = BorderlineSMOTE(random_state=42)\n",
        "X_resampled_borderline_smote, y_resampled_borderline_smote = borderline_smote.fit_resample(X, y)\n",
        "\n",
        "# Random Oversampling\n",
        "ros = RandomOverSampler(random_state=42)\n",
        "X_resampled_ros, y_resampled_ros = ros.fit_resample(X, y)"
      ],
      "metadata": {
        "id": "Q0cs6dgzUBAM"
      },
      "execution_count": null,
      "outputs": []
    },
    {
      "cell_type": "code",
      "source": [
        "# Model Evaluation Metrics\n",
        "# Random Forest with best parameters\n",
        "rf_clf = RandomForestClassifier(**best_params_rf, random_state=42)\n",
        "scores_rf = cross_val_score(rf_clf, X_resampled_smote, y_resampled_smote, cv=skf, scoring='f1')\n",
        "print(\"Random Forest - SMOTE:\")\n",
        "print(\"Cross-Validation F1-score:\", scores_rf.mean())\n",
        "\n",
        "# Gradient Boosting with best parameters\n",
        "gb_clf = GradientBoostingClassifier(**best_params_gb, random_state=42)\n",
        "scores_gb = cross_val_score(gb_clf, X_resampled_smote, y_resampled_smote, cv=skf, scoring='f1')\n",
        "print(\"Gradient Boosting - SMOTE:\")\n",
        "print(\"Cross-Validation F1-score:\", scores_gb.mean())\n",
        "\n",
        "\n",
        "# Ensemble Methods - Balanced Random Forest\n",
        "brf_clf = BalancedRandomForestClassifier(random_state=42)\n",
        "scores_brf = cross_val_score(brf_clf, X_resampled_ros, y_resampled_ros, cv=skf, scoring='f1')\n",
        "print(\"Balanced Random Forest - Random Oversampling:\")\n",
        "print(\"Cross-Validation F1-score:\", scores_brf.mean())\n",
        "\n",
        "# Ensemble Methods - EasyEnsemble\n",
        "ee_clf = EasyEnsembleClassifier(random_state=42)\n",
        "scores_ee = cross_val_score(ee_clf, X, y, cv=skf, scoring='f1')\n",
        "print(\"EasyEnsemble:\")\n",
        "print(\"Cross-Validation F1-score:\", scores_ee.mean())"
      ],
      "metadata": {
        "id": "uiu9zukoUEoe"
      },
      "execution_count": null,
      "outputs": []
    },
    {
      "cell_type": "code",
      "source": [
        "\n",
        "# Model Interpretability - SHAP\n",
        "explainer = shap.TreeExplainer(rf_clf)\n",
        "shap_values = explainer.shap_values(X_resampled_smote)\n",
        "\n",
        "# Plot SHAP summary plot\n",
        "shap.summary_plot(shap_values, X_resampled_smote, plot_type=\"bar\")"
      ],
      "metadata": {
        "id": "J2qS59paUMNg"
      },
      "execution_count": null,
      "outputs": []
    }
  ]
}